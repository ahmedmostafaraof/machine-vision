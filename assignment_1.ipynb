{
 "cells": [
  {
   "cell_type": "code",
   "execution_count": 1,
   "id": "e0b4a5ea-0aec-4af3-9ad0-d2f598c671f1",
   "metadata": {},
   "outputs": [],
   "source": [
    "students = {\n",
    "    \"ST101\": {\"name\": \"John Smith\", \"age\": 20, \"grades\": [85, 90, 88]},\n",
    "    \"ST102\": {\"name\": \"Emma Davis\", \"age\": 19, \"grades\": [55, 60, 58]},\n",
    "    \"ST103\": {\"name\": \"Alex Johnson\", \"age\": 21, \"grades\": [95, 92, 96]}\n",
    "}\n",
    "\n",
    "def process_grades(student_id):\n",
    "    if student_id not in students:\n",
    "        return \"Student not found\", None, None, None, None\n",
    "    \n",
    "    grades = students[student_id][\"grades\"]\n",
    "    avg_grade = sum(grades) / len(grades)\n",
    "    highest_grade = max(grades)\n",
    "    lowest_grade = min(grades)\n",
    "    status = \"Pass\" if avg_grade >= 60 else \"Fail\"\n",
    "    \n",
    "    return avg_grade, highest_grade, lowest_grade, status\n",
    "\n",
    "def student_report():\n",
    "    print(\"Student Report\")\n",
    "    \n",
    "    for student_id, data in students.items():\n",
    "        avg_grade, _, _, status = process_grades(student_id)\n",
    "        if avg_grade is not None:\n",
    "            print(f\"ID: {student_id} | Name: {data['name']} | Age: {data['age']} | Status: {status}\")\n",
    "   \n",
    "\n",
    "def add_student(student_id, name, age, grades):\n",
    "    if student_id in students:\n",
    "        print(\"Student ID already exists.\")\n",
    "        return\n",
    "    \n",
    "    students[student_id] = {\"name\": name, \"age\": age, \"grades\": grades}\n",
    "    print(f\"Student {name} (ID: {student_id}) added successfully!\")\n",
    "\n",
    "def remove_student(student_id):\n",
    "    if student_id not in students:\n",
    "        print(\"Student not found.\")\n",
    "        return\n",
    "    \n",
    "    del students[student_id]\n",
    "    print(f\"Student with ID {student_id} has been removed successfully!\")\n",
    "\n",
    "#list of functions\n",
    "#student_report() to get the list of students\n",
    "#process_grades(\"id\") to get his highest and lowest grades and avg\n",
    "#add_student(\"id\",\"name\", age, [grade1, grade2, grade3])\n",
    "#remove_student(\"id\")\n",
    "\n",
    "\n",
    "\n",
    "\n"
   ]
  },
  {
   "cell_type": "code",
   "execution_count": 3,
   "id": "98b50057-ebca-47c5-b82d-11220255382b",
   "metadata": {},
   "outputs": [
    {
     "name": "stdout",
     "output_type": "stream",
     "text": [
      "Student Report\n",
      "ID: ST101 | Name: John Smith | Age: 20 | Status: Pass\n",
      "ID: ST102 | Name: Emma Davis | Age: 19 | Status: Fail\n",
      "ID: ST103 | Name: Alex Johnson | Age: 21 | Status: Pass\n"
     ]
    }
   ],
   "source": [
    "student_report()\n"
   ]
  },
  {
   "cell_type": "code",
   "execution_count": 5,
   "id": "71e6dfd9-a1dd-4768-9c3c-df97ab024c96",
   "metadata": {},
   "outputs": [
    {
     "name": "stdout",
     "output_type": "stream",
     "text": [
      "Student ahmed (ID: ST104) added successfully!\n"
     ]
    }
   ],
   "source": [
    "add_student(\"ST104\", \"ahmed\", 22, [90, 80, 70])"
   ]
  },
  {
   "cell_type": "code",
   "execution_count": 7,
   "id": "21d1acb4-df7b-45ac-a8df-58ba18f9eb00",
   "metadata": {},
   "outputs": [
    {
     "name": "stdout",
     "output_type": "stream",
     "text": [
      "Student Report\n",
      "ID: ST101 | Name: John Smith | Age: 20 | Status: Pass\n",
      "ID: ST102 | Name: Emma Davis | Age: 19 | Status: Fail\n",
      "ID: ST103 | Name: Alex Johnson | Age: 21 | Status: Pass\n",
      "ID: ST104 | Name: ahmed | Age: 22 | Status: Pass\n"
     ]
    }
   ],
   "source": [
    "student_report()\n"
   ]
  },
  {
   "cell_type": "code",
   "execution_count": 9,
   "id": "1a60ac45-2bff-42c9-b3c3-99f9ed1e21ce",
   "metadata": {},
   "outputs": [
    {
     "data": {
      "text/plain": [
       "(80.0, 90, 70, 'Pass')"
      ]
     },
     "execution_count": 9,
     "metadata": {},
     "output_type": "execute_result"
    }
   ],
   "source": [
    "process_grades(\"ST104\")"
   ]
  },
  {
   "cell_type": "code",
   "execution_count": 11,
   "id": "c132f359-df76-49c5-8b4f-bba10e9aeb93",
   "metadata": {},
   "outputs": [
    {
     "name": "stdout",
     "output_type": "stream",
     "text": [
      "Student with ID ST104 has been removed successfully!\n"
     ]
    }
   ],
   "source": [
    "remove_student(\"ST104\")"
   ]
  },
  {
   "cell_type": "code",
   "execution_count": 13,
   "id": "ddc7c8d2-c150-470f-a0fe-48f9277bf9a6",
   "metadata": {},
   "outputs": [
    {
     "name": "stdout",
     "output_type": "stream",
     "text": [
      "Student Report\n",
      "ID: ST101 | Name: John Smith | Age: 20 | Status: Pass\n",
      "ID: ST102 | Name: Emma Davis | Age: 19 | Status: Fail\n",
      "ID: ST103 | Name: Alex Johnson | Age: 21 | Status: Pass\n"
     ]
    }
   ],
   "source": [
    "student_report()"
   ]
  },
  {
   "cell_type": "code",
   "execution_count": null,
   "id": "4f8d0cdb-80bc-476a-90e0-e5dc17f6ac0e",
   "metadata": {},
   "outputs": [],
   "source": []
  }
 ],
 "metadata": {
  "kernelspec": {
   "display_name": "Python 3 (ipykernel)",
   "language": "python",
   "name": "python3"
  },
  "language_info": {
   "codemirror_mode": {
    "name": "ipython",
    "version": 3
   },
   "file_extension": ".py",
   "mimetype": "text/x-python",
   "name": "python",
   "nbconvert_exporter": "python",
   "pygments_lexer": "ipython3",
   "version": "3.12.7"
  }
 },
 "nbformat": 4,
 "nbformat_minor": 5
}
