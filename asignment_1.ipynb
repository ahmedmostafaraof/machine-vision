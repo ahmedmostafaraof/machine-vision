{
 "cells": [
  {
   "cell_type": "code",
   "execution_count": null,
   "id": "954777b5-601c-4fb4-a0a4-32024ee1e614",
   "metadata": {},
   "outputs": [],
   "source": [
    "students = {\n",
    "    \"ST101\": {\"name\": \"John Smith\", \"age\": 20, \"grades\": [85, 90, 88]},\n",
    "    \"ST102\": {\"name\": \"Emma Davis\", \"age\": 19, \"grades\": [55, 60, 58]},\n",
    "    \"ST103\": {\"name\": \"Alex Johnson\", \"age\": 21, \"grades\": [95, 92, 96]}\n",
    "}\n",
    "\n",
    "def process_grades(student_id):\n",
    "    if student_id not in students:\n",
    "        return \"Student not found\", None, None, None, None\n",
    "    \n",
    "    grades = students[student_id][\"grades\"]\n",
    "    avg_grade = sum(grades) / len(grades)\n",
    "    highest_grade = max(grades)\n",
    "    lowest_grade = min(grades)\n",
    "    status = \"Pass\" if avg_grade >= 60 else \"Fail\"\n",
    "    \n",
    "    return avg_grade, highest_grade, lowest_grade, status\n",
    "\n",
    "def student_report():\n",
    "    print(\"Student Report\")\n",
    "    \n",
    "    for student_id, data in students.items():\n",
    "        avg_grade, _, _, status = process_grades(student_id)\n",
    "        if avg_grade is not None:\n",
    "            print(f\"ID: {student_id} | Name: {data['name']} | Age: {data['age']} | Status: {status}\")\n",
    "   \n",
    "\n",
    "def add_student(student_id, name, age, grades):\n",
    "    if student_id in students:\n",
    "        print(\"Student ID already exists.\")\n",
    "        return\n",
    "    \n",
    "    students[student_id] = {\"name\": name, \"age\": age, \"grades\": grades}\n",
    "    print(f\"Student {name} (ID: {student_id}) added successfully!\")\n",
    "\n",
    "def remove_student(student_id):\n",
    "    if student_id not in students:\n",
    "        print(\"Student not found.\")\n",
    "        return\n",
    "    \n",
    "    del students[student_id]\n",
    "    print(f\"Student with ID {student_id} has been removed successfully!\")\n"
   ]
  },
  {
   "cell_type": "markdown",
   "id": "76bab9ac-3d32-405b-9f53-9910a14ff45d",
   "metadata": {},
   "source": [
    "student_report() to get the list of students\n",
    "process_grades(\"id\") to get his highest and lowest grades and avg\n",
    "add_student(\"id\",\"name\", age, [grade1, grade2, grade3])\n",
    "remove_student(\"id\")\n",
    "\n",
    "\n"
   ]
  },
  {
   "cell_type": "code",
   "execution_count": 10,
   "id": "ebd2549f-f3ee-46f0-8b84-023c112fbf9a",
   "metadata": {},
   "outputs": [
    {
     "name": "stdout",
     "output_type": "stream",
     "text": [
      "Student Report\n",
      "==============================\n",
      "ID: ST101 | Name: John Smith | Age: 20 | Status: Pass\n",
      "ID: ST102 | Name: Emma Davis | Age: 19 | Status: Fail\n",
      "ID: ST103 | Name: Alex Johnson | Age: 21 | Status: Pass\n",
      "==============================\n"
     ]
    }
   ],
   "source": [
    "student_report()\n",
    "\n"
   ]
  },
  {
   "cell_type": "code",
   "execution_count": 12,
   "id": "95d746c0-be02-444c-8870-d4060071241d",
   "metadata": {},
   "outputs": [
    {
     "name": "stdout",
     "output_type": "stream",
     "text": [
      "Grades for Emma Davis (ID: ST102): [55, 60, 58]\n"
     ]
    }
   ],
   "source": [
    "get_student_grades(\"ST102\")"
   ]
  },
  {
   "cell_type": "code",
   "execution_count": 14,
   "id": "6aa6cc84-6898-4010-a273-abed546cc938",
   "metadata": {},
   "outputs": [
    {
     "name": "stdout",
     "output_type": "stream",
     "text": [
      "Student Liam Brown (ID: ST104) added successfully!\n"
     ]
    }
   ],
   "source": [
    "add_student(\"ST104\", \"Liam Brown\", 22, [78, 82, 80])"
   ]
  },
  {
   "cell_type": "code",
   "execution_count": 16,
   "id": "b36fc4cb-b7f2-4ae7-bbeb-8c7e33477661",
   "metadata": {},
   "outputs": [
    {
     "name": "stdout",
     "output_type": "stream",
     "text": [
      "Student Report\n",
      "==============================\n",
      "ID: ST101 | Name: John Smith | Age: 20 | Status: Pass\n",
      "ID: ST102 | Name: Emma Davis | Age: 19 | Status: Fail\n",
      "ID: ST103 | Name: Alex Johnson | Age: 21 | Status: Pass\n",
      "ID: ST104 | Name: Liam Brown | Age: 22 | Status: Pass\n",
      "==============================\n"
     ]
    }
   ],
   "source": [
    "student_report()"
   ]
  },
  {
   "cell_type": "code",
   "execution_count": 18,
   "id": "1976d467-ba2c-4fc6-836e-8697527e4922",
   "metadata": {},
   "outputs": [
    {
     "name": "stdout",
     "output_type": "stream",
     "text": [
      "Student with ID ST101 has been removed successfully!\n"
     ]
    }
   ],
   "source": [
    "remove_student(\"ST101\")"
   ]
  },
  {
   "cell_type": "code",
   "execution_count": 20,
   "id": "994a98ec-d198-45bd-b4ed-8ad453483e82",
   "metadata": {},
   "outputs": [
    {
     "name": "stdout",
     "output_type": "stream",
     "text": [
      "Student Report\n",
      "==============================\n",
      "ID: ST102 | Name: Emma Davis | Age: 19 | Status: Fail\n",
      "ID: ST103 | Name: Alex Johnson | Age: 21 | Status: Pass\n",
      "ID: ST104 | Name: Liam Brown | Age: 22 | Status: Pass\n",
      "==============================\n"
     ]
    }
   ],
   "source": [
    "student_report()\n"
   ]
  },
  {
   "cell_type": "code",
   "execution_count": 24,
   "id": "fb4d648b-ca17-43ce-bbd0-28963c9cddb1",
   "metadata": {},
   "outputs": [
    {
     "data": {
      "text/plain": [
       "(94.33333333333333, 96, 92, 'Pass')"
      ]
     },
     "execution_count": 24,
     "metadata": {},
     "output_type": "execute_result"
    }
   ],
   "source": [
    "process_grades(\"ST103\")"
   ]
  },
  {
   "cell_type": "code",
   "execution_count": null,
   "id": "e4e87732-1a7e-487b-aecb-3a13d33fd31d",
   "metadata": {},
   "outputs": [],
   "source": []
  }
 ],
 "metadata": {
  "kernelspec": {
   "display_name": "Python 3 (ipykernel)",
   "language": "python",
   "name": "python3"
  },
  "language_info": {
   "codemirror_mode": {
    "name": "ipython",
    "version": 3
   },
   "file_extension": ".py",
   "mimetype": "text/x-python",
   "name": "python",
   "nbconvert_exporter": "python",
   "pygments_lexer": "ipython3",
   "version": "3.12.7"
  }
 },
 "nbformat": 4,
 "nbformat_minor": 5
}
